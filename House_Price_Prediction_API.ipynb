{
 "cells": [
  {
   "cell_type": "markdown",
   "metadata": {},
   "source": [
    "# House Pricing Prediction"
   ]
  },
  {
   "cell_type": "markdown",
   "metadata": {},
   "source": [
    "#### Problem Statement\n",
    "\n",
    "\n",
    "A US-based housing company named Surprise Housing has decided to enter the Australian market. The company uses data analytics to purchase houses at a price below their actual values and flip them on at a higher price. For the same purpose, the company has collected a data set from the sale of houses in Australia. The data is provided in the CSV file below.\n",
    "\n",
    " \n",
    "\n",
    "The company is looking at prospective properties to buy to enter the market. You are required to build a regression model using regularisation in order to predict the actual value of the prospective properties and decide whether to invest in them or not.\n",
    "\n",
    " \n",
    "\n",
    "The company wants to know:\n",
    "\n",
    "    Which variables are significant in predicting the price of a house, and\n",
    "\n",
    "    How well those variables describe the price of a house.\n",
    "\n",
    " \n",
    "\n",
    "Also, determine the optimal value of lambda for ridge and lasso regression.\n",
    "\n",
    " \n",
    "\n",
    "#### Business Goal \n",
    "\n",
    " \n",
    "\n",
    "You are required to model the price of houses with the available independent variables. This model will then be used by the management to understand how exactly the prices vary with the variables. They can accordingly manipulate the strategy of the firm and concentrate on areas that will yield high returns. Further, the model will be a good way for management to understand the pricing dynamics of a new market."
   ]
  },
  {
   "cell_type": "code",
   "execution_count": 1,
   "metadata": {},
   "outputs": [],
   "source": [
    "# Import relevant libraries\n",
    "\n",
    "import numpy as np\n",
    "import pandas as pd\n",
    "import matplotlib.pyplot as plt\n",
    "import seaborn as sns\n",
    "from sklearn import linear_model, metrics\n",
    "from sklearn.linear_model import LinearRegression\n",
    "from sklearn.linear_model import Ridge\n",
    "from sklearn.linear_model import Lasso\n",
    "from sklearn.model_selection import GridSearchCV\n",
    "from sklearn.metrics import mean_squared_error, r2_score,mean_absolute_error\n",
    "from sklearn.preprocessing import MinMaxScaler,LabelEncoder,StandardScaler\n",
    "from sklearn.model_selection import train_test_split\n",
    "\n",
    "import os\n",
    "import warnings\n",
    "warnings.filterwarnings('ignore')"
   ]
  },
  {
   "cell_type": "markdown",
   "metadata": {},
   "source": [
    "### Read and Understand Data"
   ]
  },
  {
   "cell_type": "code",
   "execution_count": 2,
   "metadata": {},
   "outputs": [],
   "source": [
    "data = pd.read_csv('train.csv')"
   ]
  },
  {
   "cell_type": "code",
   "execution_count": 3,
   "metadata": {},
   "outputs": [],
   "source": [
    "updateMissingCol=['PoolQC', 'MiscFeature', 'Alley', 'Fence', 'FireplaceQu',\n",
    "       'GarageType', 'GarageFinish', 'GarageQual', 'GarageCond',\n",
    "       'BsmtExposure', 'BsmtFinType2', 'BsmtFinType1', 'BsmtCond', 'BsmtQual']"
   ]
  },
  {
   "cell_type": "code",
   "execution_count": 4,
   "metadata": {},
   "outputs": [],
   "source": [
    "for col in updateMissingCol:\n",
    "    data[col].fillna(value='None',inplace=True)"
   ]
  },
  {
   "cell_type": "markdown",
   "metadata": {},
   "source": [
    " Missing value imputation to be done only for below columns.\n",
    "['MasVnrArea', 'MasVnrType', 'Electrical','LotFrontage','GarageYrBlt']"
   ]
  },
  {
   "cell_type": "code",
   "execution_count": 5,
   "metadata": {},
   "outputs": [],
   "source": [
    "data['Electrical'].fillna(value=data['Electrical'].mode()[0],inplace=True)"
   ]
  },
  {
   "cell_type": "code",
   "execution_count": 6,
   "metadata": {},
   "outputs": [],
   "source": [
    "data['MasVnrType'].fillna(value=data['MasVnrType'].mode()[0],inplace=True)"
   ]
  },
  {
   "cell_type": "code",
   "execution_count": 7,
   "metadata": {},
   "outputs": [],
   "source": [
    "data['MasVnrArea'].fillna(value=data['MasVnrArea'].median(),inplace=True)"
   ]
  },
  {
   "cell_type": "code",
   "execution_count": 8,
   "metadata": {},
   "outputs": [],
   "source": [
    "data['LotFrontage'].fillna(value=data['LotFrontage'].median(),inplace=True)"
   ]
  },
  {
   "cell_type": "markdown",
   "metadata": {},
   "source": [
    "GarageYrBlt missing values means absense of Garage. As in coming steps we are going to calculate age (derived column) \n",
    "and drop the original GarageBuilt column we will impute now it as YearSold+1. So that the age column will come as -1."
   ]
  },
  {
   "cell_type": "code",
   "execution_count": 9,
   "metadata": {},
   "outputs": [],
   "source": [
    "data['GarageYrBlt'].fillna(value=data['YrSold'],inplace=True)"
   ]
  },
  {
   "cell_type": "markdown",
   "metadata": {},
   "source": [
    "Columns which have over 85% same value, wont contribute to the model hence can be dropped."
   ]
  },
  {
   "cell_type": "code",
   "execution_count": 10,
   "metadata": {},
   "outputs": [
    {
     "name": "stdout",
     "output_type": "stream",
     "text": [
      "Removing Column : Street with percentage : 100.0\n",
      "Removing Column : Alley with percentage : 94.0\n",
      "Removing Column : LandContour with percentage : 90.0\n",
      "Removing Column : Utilities with percentage : 100.0\n",
      "Removing Column : LandSlope with percentage : 95.0\n",
      "Removing Column : Condition1 with percentage : 86.0\n",
      "Removing Column : Condition2 with percentage : 99.0\n",
      "Removing Column : RoofMatl with percentage : 98.0\n",
      "Removing Column : ExterCond with percentage : 88.0\n",
      "Removing Column : BsmtCond with percentage : 90.0\n",
      "Removing Column : BsmtFinType2 with percentage : 86.0\n",
      "Removing Column : BsmtFinSF2 with percentage : 89.0\n",
      "Removing Column : Heating with percentage : 98.0\n",
      "Removing Column : CentralAir with percentage : 93.0\n",
      "Removing Column : Electrical with percentage : 91.0\n",
      "Removing Column : LowQualFinSF with percentage : 98.0\n",
      "Removing Column : BsmtHalfBath with percentage : 94.0\n",
      "Removing Column : KitchenAbvGr with percentage : 95.0\n",
      "Removing Column : Functional with percentage : 93.0\n",
      "Removing Column : GarageQual with percentage : 90.0\n",
      "Removing Column : GarageCond with percentage : 91.0\n",
      "Removing Column : PavedDrive with percentage : 92.0\n",
      "Removing Column : EnclosedPorch with percentage : 86.0\n",
      "Removing Column : 3SsnPorch with percentage : 98.0\n",
      "Removing Column : ScreenPorch with percentage : 92.0\n",
      "Removing Column : PoolArea with percentage : 100.0\n",
      "Removing Column : PoolQC with percentage : 100.0\n",
      "Removing Column : MiscFeature with percentage : 96.0\n",
      "Removing Column : MiscVal with percentage : 96.0\n",
      "Removing Column : SaleType with percentage : 87.0\n"
     ]
    }
   ],
   "source": [
    "for col in data.columns:\n",
    "    if round(data[col].value_counts(normalize=True).max(),2) > 0.85 :\n",
    "        print(\"Removing Column : \" + col + \" with percentage : \" + str(round(data[col].value_counts(normalize=True).max(),2)*100))\n",
    "        data = data.drop(col,axis=1)"
   ]
  },
  {
   "cell_type": "code",
   "execution_count": 11,
   "metadata": {},
   "outputs": [],
   "source": [
    "# Id column has all unique values hence can be dropped.\n",
    "data = data.drop('Id',axis=1)"
   ]
  },
  {
   "cell_type": "markdown",
   "metadata": {},
   "source": [
    "### Derived Columns"
   ]
  },
  {
   "cell_type": "markdown",
   "metadata": {},
   "source": [
    "Converting the Year columns(YearBuilt, YearRemodAdd, GarageYrBlt to Age(as per sold year) and drop the original 3 year columns."
   ]
  },
  {
   "cell_type": "code",
   "execution_count": 12,
   "metadata": {},
   "outputs": [],
   "source": [
    "data['Age_Built_Sold']=data['YrSold']-data['YearBuilt']\n",
    "data['Age_ReBuilt_Sold']=data['YrSold']-data['YearRemodAdd']\n",
    "data['Age_Garage_Sold']=(data['YrSold']-data['GarageYrBlt']).astype(int)"
   ]
  },
  {
   "cell_type": "code",
   "execution_count": 13,
   "metadata": {},
   "outputs": [],
   "source": [
    "data = data.drop('GarageYrBlt',axis=1)\n",
    "data = data.drop('YearBuilt',axis=1)\n",
    "data = data.drop('YearRemodAdd',axis=1)"
   ]
  },
  {
   "cell_type": "code",
   "execution_count": 14,
   "metadata": {},
   "outputs": [],
   "source": [
    "data['YrSold']=data['YrSold'].astype('object')"
   ]
  },
  {
   "cell_type": "markdown",
   "metadata": {},
   "source": [
    "### Convert number values into logical categories for EDA."
   ]
  },
  {
   "cell_type": "markdown",
   "metadata": {},
   "source": [
    "[MSSubClass,OverallQual,OverallCond,MoSold]"
   ]
  },
  {
   "cell_type": "code",
   "execution_count": 15,
   "metadata": {},
   "outputs": [],
   "source": [
    "data['OverallQual'] = data['OverallQual'].map({1:'VPoor',2:'Poor', 3:'Fair',4:'BelAvg',5:'Avg',6:'AbvAvg',7:'Good',8:'VGood',9:'Exc',10:'VExc'})\n",
    "data['OverallCond'] = data['OverallCond'].map({1:'VPoor',2:'Poor',3:'Fair',4:'BelAvg',5:'Avg',6:'AbvAvg',7:'Good',8:'VGood',9:'Exc',10:'VExc'})"
   ]
  },
  {
   "cell_type": "code",
   "execution_count": 16,
   "metadata": {},
   "outputs": [],
   "source": [
    "data['MSSubClass'] = data['MSSubClass'].map({20:'1-STORY 1946 & NEWER',30:'1-STORY 1945 & OLDER',40:'1-STORY W/FINISHED ATTIC',45:'1-1/2 STORY-UNFINISHED',50:'1-1/2 STORY FINISHED',60:'2-STORY 1946 & NEWER',70:'2-STORY 1945 & OLDER',75:'2-1/2 STORY',80:'SPLIT OR MULTI-LEVEL',85:'SPLIT FOYER',90:'DUPLEX',120:'1-STORY PUD',150:'1-1/2 STORY PUD',160:'2-STORY PUD',180:'PUD-MULTILEVEL',190:'2 FAMILY CONVERSION'})"
   ]
  },
  {
   "cell_type": "code",
   "execution_count": 17,
   "metadata": {},
   "outputs": [],
   "source": [
    "data['MoSold'] = data['MoSold'].map({1:'Jan',2:'Feb',3:'Mar',4:'Apr',5:'May',6:'Jun',7:'Jul',8:'Aug',9:'Sep',10:'Oct',11:'Nov',12:'Dec'})"
   ]
  },
  {
   "cell_type": "markdown",
   "metadata": {},
   "source": [
    "### Analysis of Target variable - SalePrice"
   ]
  },
  {
   "cell_type": "code",
   "execution_count": 18,
   "metadata": {},
   "outputs": [],
   "source": [
    "target_col = ['SalePrice_log']\n",
    "data['SalePrice_log'] = np.log(data['SalePrice'])\n",
    "saleprice = data[['SalePrice']].copy()\n",
    "data = data.drop('SalePrice',axis=1) # removing the orignal variable"
   ]
  },
  {
   "cell_type": "markdown",
   "metadata": {},
   "source": [
    "### Split data to numerical and categorical data"
   ]
  },
  {
   "cell_type": "code",
   "execution_count": 19,
   "metadata": {},
   "outputs": [
    {
     "data": {
      "text/plain": [
       "['LotFrontage',\n",
       " 'LotArea',\n",
       " 'MasVnrArea',\n",
       " 'BsmtFinSF1',\n",
       " 'BsmtUnfSF',\n",
       " 'TotalBsmtSF',\n",
       " '1stFlrSF',\n",
       " '2ndFlrSF',\n",
       " 'GrLivArea',\n",
       " 'BsmtFullBath',\n",
       " 'FullBath',\n",
       " 'HalfBath',\n",
       " 'BedroomAbvGr',\n",
       " 'TotRmsAbvGrd',\n",
       " 'Fireplaces',\n",
       " 'GarageCars',\n",
       " 'GarageArea',\n",
       " 'WoodDeckSF',\n",
       " 'OpenPorchSF',\n",
       " 'Age_Built_Sold',\n",
       " 'Age_ReBuilt_Sold',\n",
       " 'Age_Garage_Sold',\n",
       " 'SalePrice_log']"
      ]
     },
     "execution_count": 19,
     "metadata": {},
     "output_type": "execute_result"
    }
   ],
   "source": [
    "num_col = data.select_dtypes(include=np.number).columns.tolist()\n",
    "num_col"
   ]
  },
  {
   "cell_type": "code",
   "execution_count": 20,
   "metadata": {},
   "outputs": [
    {
     "data": {
      "text/plain": [
       "['Neighborhood',\n",
       " 'OverallCond',\n",
       " 'HouseStyle',\n",
       " 'LotConfig',\n",
       " 'Foundation',\n",
       " 'LotShape',\n",
       " 'HeatingQC',\n",
       " 'RoofStyle',\n",
       " 'BldgType',\n",
       " 'Exterior1st',\n",
       " 'BsmtFinType1',\n",
       " 'MSSubClass',\n",
       " 'MSZoning',\n",
       " 'FireplaceQu',\n",
       " 'MasVnrType',\n",
       " 'YrSold',\n",
       " 'Exterior2nd',\n",
       " 'BsmtQual',\n",
       " 'Fence',\n",
       " 'KitchenQual',\n",
       " 'GarageFinish',\n",
       " 'MoSold',\n",
       " 'BsmtExposure',\n",
       " 'OverallQual',\n",
       " 'ExterQual',\n",
       " 'GarageType',\n",
       " 'SaleCondition']"
      ]
     },
     "execution_count": 20,
     "metadata": {},
     "output_type": "execute_result"
    }
   ],
   "source": [
    "cat_col = list(set(data.columns)-set(num_col))\n",
    "cat_col"
   ]
  },
  {
   "cell_type": "code",
   "execution_count": 21,
   "metadata": {},
   "outputs": [],
   "source": [
    "for col in cat_col:\n",
    "    data[col]=data[col].astype('object')"
   ]
  },
  {
   "cell_type": "markdown",
   "metadata": {},
   "source": [
    "### Outlier Treatment for numeric columns"
   ]
  },
  {
   "cell_type": "code",
   "execution_count": 22,
   "metadata": {},
   "outputs": [],
   "source": [
    "def outlier_treatment(df,colName):\n",
    "    IQR = df[colName].quantile(0.75)-df[colName].quantile(0.25)\n",
    "    UF = df[colName].quantile(0.75) + (1.5*IQR)\n",
    "    df.loc[df[colName] > UF,colName]=UF"
   ]
  },
  {
   "cell_type": "code",
   "execution_count": 23,
   "metadata": {},
   "outputs": [],
   "source": [
    "for col in num_col:\n",
    "    outlier_treatment(data,col)"
   ]
  },
  {
   "cell_type": "markdown",
   "metadata": {},
   "source": [
    "#### Separation of features for Label Encoding and One Hot Encoding"
   ]
  },
  {
   "cell_type": "markdown",
   "metadata": {},
   "source": [
    "Label Encoding can be done for below columns"
   ]
  },
  {
   "cell_type": "code",
   "execution_count": 24,
   "metadata": {},
   "outputs": [],
   "source": [
    "labelEncCol = [\n",
    "'OverallQual',\n",
    "'OverallCond',\n",
    "'LotShape',\n",
    "'ExterQual',\n",
    "'BsmtQual',\n",
    "'BsmtExposure',\n",
    "'BsmtFinType1',\n",
    "'HeatingQC',\n",
    "'KitchenQual',\n",
    "'FireplaceQu',\n",
    "'GarageFinish']"
   ]
  },
  {
   "cell_type": "markdown",
   "metadata": {},
   "source": [
    "### Creating Label Encoding"
   ]
  },
  {
   "cell_type": "code",
   "execution_count": 25,
   "metadata": {},
   "outputs": [],
   "source": [
    "data['OverallQual'] = data['OverallQual'].map({'VPoor':0,'Poor':1,'Fair':2,'BelAvg':3,'Avg':4,'AbvAvg':5,'Good':6,'VGood':7,'Exc':8,'VExc':9})\n",
    "data['OverallCond'] = data['OverallCond'].map({'VPoor':0,'Poor':1,'Fair':2,'BelAvg':3,'Avg':4,'AbvAvg':5,'Good':6,'VGood':7,'Exc':8,'VExc':9})\n",
    "\n",
    "data['LotShape'] = data['LotShape'].map({'Reg': 3, 'IR1': 2, 'IR2': 1, 'IR3': 0}) #3 indicates better i.e. Regular LotShape\n",
    "data['ExterQual'] = data['ExterQual'].map({'Ex': 5, 'Gd': 4, 'TA': 3, 'Fa': 2, 'Po': 1, 'None': 0 })\n",
    "\n",
    "data['BsmtQual'] = data['BsmtQual'].map({'Ex': 5, 'Gd': 4, 'TA': 3, 'Fa': 2, 'Po': 1, 'None': 0})\n",
    "data['BsmtExposure'] = data['BsmtExposure'].map({'Gd': 4, 'Av': 3, 'Mn': 2, 'No': 1, 'None': 0})\n",
    "data['BsmtFinType1'] = data['BsmtFinType1'].map({'GLQ': 6, 'ALQ': 5, 'BLQ': 4, 'Rec': 3, 'LwQ': 2, 'Unf': 1, 'None': 0})\n",
    "data['HeatingQC'] = data['HeatingQC'].map({'Ex': 5, 'Gd': 4, 'TA': 3, 'Fa': 2, 'Po': 1, 'None': 0})\n",
    "\n",
    "data['KitchenQual'] = data['KitchenQual'].map({'Ex': 5, 'Gd': 4, 'TA': 3, 'Fa': 2, 'Po': 1, 'None': 0})\n",
    "data['FireplaceQu'] = data['FireplaceQu'].map({'Ex': 5, 'Gd': 4, 'TA': 3, 'Fa': 2, 'Po': 1, 'None': 0})\n",
    "data['GarageFinish'] = data['GarageFinish'].map({'Fin': 3, 'RFn': 2, 'Unf': 1, 'None': 0 })"
   ]
  },
  {
   "cell_type": "markdown",
   "metadata": {},
   "source": [
    "One Hot Encoding can be done for below columns"
   ]
  },
  {
   "cell_type": "code",
   "execution_count": 26,
   "metadata": {},
   "outputs": [
    {
     "data": {
      "text/plain": [
       "['RoofStyle',\n",
       " 'BldgType',\n",
       " 'Exterior1st',\n",
       " 'Fence',\n",
       " 'YrSold',\n",
       " 'MSSubClass',\n",
       " 'Neighborhood',\n",
       " 'HouseStyle',\n",
       " 'MasVnrType',\n",
       " 'Exterior2nd',\n",
       " 'MSZoning',\n",
       " 'LotConfig',\n",
       " 'MoSold',\n",
       " 'Foundation',\n",
       " 'GarageType',\n",
       " 'SaleCondition']"
      ]
     },
     "execution_count": 26,
     "metadata": {},
     "output_type": "execute_result"
    }
   ],
   "source": [
    "dummy_col = list(set(cat_col)-set(labelEncCol))\n",
    "dummy_col"
   ]
  },
  {
   "cell_type": "markdown",
   "metadata": {},
   "source": [
    "### One Hot Encoding Or Creating dummy variables"
   ]
  },
  {
   "cell_type": "code",
   "execution_count": 27,
   "metadata": {},
   "outputs": [],
   "source": [
    "data = pd.get_dummies(data=data,columns=dummy_col,drop_first=True)"
   ]
  },
  {
   "cell_type": "code",
   "execution_count": 28,
   "metadata": {},
   "outputs": [
    {
     "data": {
      "text/plain": [
       "['LotFrontage',\n",
       " 'LotArea',\n",
       " 'MasVnrArea',\n",
       " 'BsmtFinSF1',\n",
       " 'BsmtUnfSF',\n",
       " 'TotalBsmtSF',\n",
       " '1stFlrSF',\n",
       " '2ndFlrSF',\n",
       " 'GrLivArea',\n",
       " 'BsmtFullBath',\n",
       " 'FullBath',\n",
       " 'HalfBath',\n",
       " 'BedroomAbvGr',\n",
       " 'TotRmsAbvGrd',\n",
       " 'Fireplaces',\n",
       " 'GarageCars',\n",
       " 'GarageArea',\n",
       " 'WoodDeckSF',\n",
       " 'OpenPorchSF',\n",
       " 'Age_Built_Sold',\n",
       " 'Age_ReBuilt_Sold',\n",
       " 'Age_Garage_Sold',\n",
       " 'SalePrice_log',\n",
       " 'OverallQual',\n",
       " 'OverallCond',\n",
       " 'LotShape',\n",
       " 'ExterQual',\n",
       " 'BsmtQual',\n",
       " 'BsmtExposure',\n",
       " 'BsmtFinType1',\n",
       " 'HeatingQC',\n",
       " 'KitchenQual',\n",
       " 'FireplaceQu',\n",
       " 'GarageFinish']"
      ]
     },
     "execution_count": 28,
     "metadata": {},
     "output_type": "execute_result"
    }
   ],
   "source": [
    "scaleCols = num_col+labelEncCol\n",
    "scaleCols"
   ]
  },
  {
   "cell_type": "markdown",
   "metadata": {},
   "source": [
    "### Train Test Split"
   ]
  },
  {
   "cell_type": "code",
   "execution_count": 29,
   "metadata": {},
   "outputs": [],
   "source": [
    "df_train, df_test = train_test_split(data, train_size=.7, random_state=100)"
   ]
  },
  {
   "cell_type": "markdown",
   "metadata": {},
   "source": [
    "### Scaling of Data - MinMaxScaler"
   ]
  },
  {
   "cell_type": "code",
   "execution_count": 30,
   "metadata": {},
   "outputs": [],
   "source": [
    "scaler = MinMaxScaler()\n",
    "df_train[scaleCols] = scaler.fit_transform(df_train[scaleCols])\n",
    "df_test[scaleCols] = scaler.transform(df_test[scaleCols])"
   ]
  },
  {
   "cell_type": "code",
   "execution_count": 31,
   "metadata": {},
   "outputs": [],
   "source": [
    "y_train=df_train.pop('SalePrice_log')\n",
    "X_train=df_train\n",
    "y_test=df_test.pop('SalePrice_log')\n",
    "X_test=df_test"
   ]
  },
  {
   "cell_type": "markdown",
   "metadata": {},
   "source": [
    "### Custom Functions"
   ]
  },
  {
   "cell_type": "code",
   "execution_count": 32,
   "metadata": {},
   "outputs": [],
   "source": [
    "def PlotHistErrorTerms(y,y_pred):\n",
    "    sns.set_style('white')\n",
    "    plt.figure(figsize=(5,5), dpi=100)\n",
    "    res1 = (y - y_pred)     #residuals\n",
    "    sns.distplot(res1 , bins = 30, color='g')\n",
    "    plt.title('Error Terms: Distribution', fontweight='bold', fontsize = 18)               \n",
    "    plt.xlabel('Errors', fontstyle='italic', fontsize = 12) \n",
    "    plt.grid(True)\n",
    "    plt.show()"
   ]
  },
  {
   "cell_type": "code",
   "execution_count": 33,
   "metadata": {},
   "outputs": [],
   "source": [
    "def ScatterPlotActPred(y,y_pred):\n",
    "    sns.set_style('white')\n",
    "    plt.figure(figsize = (8,6))\n",
    "    plt.scatter(y,y_pred)\n",
    "    plt.title('y_actual vs y_pred', fontweight='bold', fontsize = 20)           \n",
    "    plt.xlabel('y_actual', fontstyle='italic', fontsize = 16)              \n",
    "    plt.ylabel('y_pred', fontstyle='italic', fontsize = 16) \n",
    "    plt.grid(True)\n",
    "    plt.show()"
   ]
  },
  {
   "cell_type": "code",
   "execution_count": 34,
   "metadata": {},
   "outputs": [],
   "source": [
    "def PlotActualPredicted(y,y_pred,obsCount):\n",
    "    sns.set_style('white')\n",
    "    plt.figure(figsize = (8,4), dpi=120)\n",
    "    f1 = [i for i in range(0,obsCount,1)]\n",
    "    g1 = [i for i in range(0,obsCount,1)]\n",
    "    plt.plot(f1, y_pred, color=\"blue\", linewidth=1, linestyle=\"-\")     \n",
    "    plt.plot(g1, y, color=\"red\",  linewidth=1, linestyle=\"-\")  \n",
    "    plt.title(\"Actual and Predicted\", fontsize=15, fontweight='bold')    \n",
    "    plt.xlabel('Index', fontsize=15, fontstyle='italic')                              \n",
    "    plt.ylabel('SalePrice', fontsize=15, fontstyle='italic')  \n",
    "    plt.show()"
   ]
  },
  {
   "cell_type": "code",
   "execution_count": 35,
   "metadata": {},
   "outputs": [],
   "source": [
    "def PlotErroTermSpread(y,y_pred,obsCount):\n",
    "    sns.set_style('white')\n",
    "    plt.figure(figsize = (6,4), dpi=100)\n",
    "    j1 = [i for i in range(0,obsCount,1)] \n",
    "    res_train1 = (y_train-y_pred_train_l)\n",
    "    plt.scatter(j1, res_train1)\n",
    "\n",
    "    plt.title('Error Terms', fontsize=18, fontweight='bold')              \n",
    "    plt.xlabel('Index', fontstyle='italic', fontsize=14)                      \n",
    "    plt.ylabel('y_actual - y_pred', fontstyle='italic', fontsize=14)   \n",
    "    plt.grid(True)\n",
    "    plt.show()"
   ]
  },
  {
   "cell_type": "code",
   "execution_count": 36,
   "metadata": {},
   "outputs": [],
   "source": [
    "def predictions(y,y_pred):\n",
    "    ##R2 score\n",
    "    r2score = round(r2_score(y_true= y, y_pred= y_pred),4)\n",
    "    \n",
    "    ##Check the mean squared error (MSE)\n",
    "    MSE = round(mean_squared_error(y, y_pred),4)\n",
    "    \n",
    "    ##Mean Absolute error for train and test sets\n",
    "    MAE = round(mean_absolute_error(y, y_pred),4)\n",
    "\n",
    "    ##Root Mean Squared Error for Train and Test Sets\n",
    "    RMSE = round(np.sqrt(MAE),4)\n",
    "    print(\"\\nR2 score:\",r2score,\"\\nMSE score:\",MSE,\"\\nMAE score:\",MAE,\"\\nRMSE score:\",RMSE)\n",
    "\n"
   ]
  },
  {
   "cell_type": "code",
   "execution_count": 37,
   "metadata": {},
   "outputs": [],
   "source": [
    "def createDataFrameModelCoeff(coef):\n",
    "    df = pd.DataFrame({'Features':X_train.columns, 'Coefficient':coef.round(4), \\\n",
    "                         'Abs_Coefficient(Desc_Sort)':abs(coef.round(4))})\n",
    "    ##Sorting coefficient in descending order of absolute values and reset index\n",
    "    df = df.sort_values(by='Abs_Coefficient(Desc_Sort)', ascending=False)\n",
    "    df.reset_index(drop=True, inplace=True)  \n",
    "    return df"
   ]
  },
  {
   "cell_type": "code",
   "execution_count": 38,
   "metadata": {},
   "outputs": [],
   "source": [
    "def PlotCoeffTop10(df):\n",
    "    top10_df= df.loc[:9] #Lasso_df with top 10 coefficients\n",
    "\n",
    "    sns.set(style='white')\n",
    "    plt.figure(figsize=(16,8), dpi=120)\n",
    "    ax4= sns.barplot(y=top10_df['Features'], x=top10_df['Coefficient'], palette='Set1')\n",
    "\n",
    "    plt.xlabel('Coefficient Values', fontsize= 14, fontstyle='italic')\n",
    "    plt.ylabel('Features' , fontsize= 14, fontstyle='italic')\n",
    "    plt.title('Coefficents of Top 10 Features : ', fontsize=18,fontweight='bold')\n",
    "\n",
    "    c= top10_df['Coefficient'] #Storing coefficient values\n",
    "    for index, value in enumerate(c):\n",
    "        plt.text(value, index, str(value), fontsize=13)\n",
    "\n",
    "    plt.grid(True)\n",
    "    plt.xticks(fontsize=13)\n",
    "    plt.yticks(fontsize=13)\n",
    "    plt.autoscale()\n",
    "    plt.tight_layout()\n",
    "    plt.show() "
   ]
  },
  {
   "cell_type": "markdown",
   "metadata": {},
   "source": [
    "### Lasso Regression Model"
   ]
  },
  {
   "cell_type": "code",
   "execution_count": 39,
   "metadata": {},
   "outputs": [
    {
     "name": "stdout",
     "output_type": "stream",
     "text": [
      "Fitting 5 folds for each of 28 candidates, totalling 140 fits\n"
     ]
    },
    {
     "data": {
      "text/plain": [
       "GridSearchCV(cv=5, estimator=Lasso(),\n",
       "             param_grid={'alpha': [0.0001, 0.001, 0.01, 0.05, 0.1, 0.2, 0.3,\n",
       "                                   0.4, 0.5, 0.6, 0.7, 0.8, 0.9, 1.0, 2.0, 3.0,\n",
       "                                   4.0, 5.0, 6.0, 7.0, 8.0, 9.0, 10.0, 20, 50,\n",
       "                                   100, 500, 1000]},\n",
       "             return_train_score=True, scoring='neg_mean_absolute_error',\n",
       "             verbose=1)"
      ]
     },
     "execution_count": 39,
     "metadata": {},
     "output_type": "execute_result"
    }
   ],
   "source": [
    "folds = 5\n",
    "lasso = Lasso()\n",
    "\n",
    "params = {'alpha': [0.0001, 0.001, 0.01, 0.05, 0.1, \n",
    " 0.2, 0.3, 0.4, 0.5, 0.6, 0.7, 0.8, 0.9, 1.0, 2.0, 3.0, \n",
    " 4.0, 5.0, 6.0, 7.0, 8.0, 9.0, 10.0, 20, 50, 100, 500, 1000 ]}\n",
    "# cross validation\n",
    "model_cv = GridSearchCV(estimator = lasso, \n",
    "                        param_grid = params, \n",
    "                        scoring= 'neg_mean_absolute_error', \n",
    "                        cv = folds, \n",
    "                        return_train_score=True,\n",
    "                        verbose = 1)            \n",
    "\n",
    "model_cv.fit(X_train, y_train) "
   ]
  },
  {
   "cell_type": "code",
   "execution_count": 40,
   "metadata": {},
   "outputs": [
    {
     "name": "stdout",
     "output_type": "stream",
     "text": [
      "{'alpha': 0.0001}\n"
     ]
    }
   ],
   "source": [
    "# Printing the best hyperparameter alpha\n",
    "print(model_cv.best_params_)"
   ]
  },
  {
   "cell_type": "code",
   "execution_count": 41,
   "metadata": {},
   "outputs": [
    {
     "data": {
      "text/plain": [
       "Lasso(alpha=0.0001)"
      ]
     },
     "execution_count": 41,
     "metadata": {},
     "output_type": "execute_result"
    }
   ],
   "source": [
    "#Fitting Ridge model for best alpha and printing coefficients which have been penalised\n",
    "\n",
    "alpha_lasso1 =0.0001\n",
    "\n",
    "lasso1 = Lasso(alpha=alpha_lasso1)\n",
    "        \n",
    "lasso1.fit(X_train, y_train) "
   ]
  },
  {
   "cell_type": "code",
   "execution_count": 42,
   "metadata": {},
   "outputs": [],
   "source": [
    "y_pred_train_lasso1 = lasso1.predict(X_train)\n",
    "y_pred_test_lasso1 = lasso1.predict(X_test)"
   ]
  },
  {
   "cell_type": "code",
   "execution_count": 43,
   "metadata": {},
   "outputs": [
    {
     "name": "stdout",
     "output_type": "stream",
     "text": [
      "For Lasso Regression Model (Original Model: alpha=0.0001):\n",
      " *******************************************************\n",
      "\n",
      "For Train Set:\n",
      "\n",
      "R2 score: 0.9304 \n",
      "MSE score: 0.0016 \n",
      "MAE score: 0.0281 \n",
      "RMSE score: 0.1676\n",
      "\n",
      "For Test Set:\n",
      "\n",
      "R2 score: 0.8929 \n",
      "MSE score: 0.0026 \n",
      "MAE score: 0.0337 \n",
      "RMSE score: 0.1836\n"
     ]
    }
   ],
   "source": [
    "print(\"For Lasso Regression Model (Original Model: alpha=\" + str(alpha_lasso1) +\"):\\n\",\"*\"*55)\n",
    "print(\"\\nFor Train Set:\")\n",
    "predictions(y_train,y_pred_train_lasso1)\n",
    "print(\"\\nFor Test Set:\")\n",
    "predictions(y_test,y_pred_test_lasso1)"
   ]
  },
  {
   "cell_type": "code",
   "execution_count": 44,
   "metadata": {},
   "outputs": [
    {
     "data": {
      "text/html": [
       "<div>\n",
       "<style scoped>\n",
       "    .dataframe tbody tr th:only-of-type {\n",
       "        vertical-align: middle;\n",
       "    }\n",
       "\n",
       "    .dataframe tbody tr th {\n",
       "        vertical-align: top;\n",
       "    }\n",
       "\n",
       "    .dataframe thead th {\n",
       "        text-align: right;\n",
       "    }\n",
       "</style>\n",
       "<table border=\"1\" class=\"dataframe\">\n",
       "  <thead>\n",
       "    <tr style=\"text-align: right;\">\n",
       "      <th></th>\n",
       "      <th>Features</th>\n",
       "      <th>Coefficient</th>\n",
       "      <th>Abs_Coefficient(Desc_Sort)</th>\n",
       "    </tr>\n",
       "  </thead>\n",
       "  <tbody>\n",
       "    <tr>\n",
       "      <th>0</th>\n",
       "      <td>GrLivArea</td>\n",
       "      <td>0.2352</td>\n",
       "      <td>0.2352</td>\n",
       "    </tr>\n",
       "    <tr>\n",
       "      <th>1</th>\n",
       "      <td>OverallQual</td>\n",
       "      <td>0.1544</td>\n",
       "      <td>0.1544</td>\n",
       "    </tr>\n",
       "    <tr>\n",
       "      <th>2</th>\n",
       "      <td>OverallCond</td>\n",
       "      <td>0.1275</td>\n",
       "      <td>0.1275</td>\n",
       "    </tr>\n",
       "    <tr>\n",
       "      <th>3</th>\n",
       "      <td>MSZoning_FV</td>\n",
       "      <td>0.0810</td>\n",
       "      <td>0.0810</td>\n",
       "    </tr>\n",
       "    <tr>\n",
       "      <th>4</th>\n",
       "      <td>TotalBsmtSF</td>\n",
       "      <td>0.0808</td>\n",
       "      <td>0.0808</td>\n",
       "    </tr>\n",
       "    <tr>\n",
       "      <th>5</th>\n",
       "      <td>Age_Built_Sold</td>\n",
       "      <td>-0.0778</td>\n",
       "      <td>0.0778</td>\n",
       "    </tr>\n",
       "    <tr>\n",
       "      <th>6</th>\n",
       "      <td>MSZoning_RL</td>\n",
       "      <td>0.0776</td>\n",
       "      <td>0.0776</td>\n",
       "    </tr>\n",
       "    <tr>\n",
       "      <th>7</th>\n",
       "      <td>MSZoning_RH</td>\n",
       "      <td>0.0753</td>\n",
       "      <td>0.0753</td>\n",
       "    </tr>\n",
       "    <tr>\n",
       "      <th>8</th>\n",
       "      <td>MSZoning_RM</td>\n",
       "      <td>0.0589</td>\n",
       "      <td>0.0589</td>\n",
       "    </tr>\n",
       "    <tr>\n",
       "      <th>9</th>\n",
       "      <td>LotArea</td>\n",
       "      <td>0.0456</td>\n",
       "      <td>0.0456</td>\n",
       "    </tr>\n",
       "  </tbody>\n",
       "</table>\n",
       "</div>"
      ],
      "text/plain": [
       "         Features  Coefficient  Abs_Coefficient(Desc_Sort)\n",
       "0       GrLivArea       0.2352                      0.2352\n",
       "1     OverallQual       0.1544                      0.1544\n",
       "2     OverallCond       0.1275                      0.1275\n",
       "3     MSZoning_FV       0.0810                      0.0810\n",
       "4     TotalBsmtSF       0.0808                      0.0808\n",
       "5  Age_Built_Sold      -0.0778                      0.0778\n",
       "6     MSZoning_RL       0.0776                      0.0776\n",
       "7     MSZoning_RH       0.0753                      0.0753\n",
       "8     MSZoning_RM       0.0589                      0.0589\n",
       "9         LotArea       0.0456                      0.0456"
      ]
     },
     "execution_count": 44,
     "metadata": {},
     "output_type": "execute_result"
    }
   ],
   "source": [
    "lasso1_df = createDataFrameModelCoeff(lasso1.coef_)\n",
    "lasso1_df.head(10)"
   ]
  },
  {
   "cell_type": "code",
   "execution_count": 45,
   "metadata": {},
   "outputs": [
    {
     "data": {
      "image/png": "[encoded data removed]",
      "text/plain": [
       "<Figure size 1920x960 with 1 Axes>"
      ]
     },
     "metadata": {},
     "output_type": "display_data"
    }
   ],
   "source": [
    "PlotCoeffTop10(lasso1_df)"
   ]
  },
  {
   "cell_type": "code",
   "execution_count": 46,
   "metadata": {},
   "outputs": [
    {
     "data": {
      "text/plain": [
       "['GrLivArea', 'OverallQual', 'OverallCond', 'TotalBsmtSF', 'Age_Built_Sold']"
      ]
     },
     "execution_count": 46,
     "metadata": {},
     "output_type": "execute_result"
    }
   ],
   "source": [
    "#finalFeatures = list(lasso1_df.head(10)['Features'])\n",
    "finalFeatures = ['GrLivArea',\n",
    " 'OverallQual',\n",
    " 'OverallCond',\n",
    " 'TotalBsmtSF',\n",
    " 'Age_Built_Sold',\n",
    "]\n",
    "finalFeatures"
   ]
  },
  {
   "cell_type": "code",
   "execution_count": 47,
   "metadata": {},
   "outputs": [],
   "source": [
    "X_train = X_train[finalFeatures]\n",
    "X_test = X_test[finalFeatures]"
   ]
  },
  {
   "cell_type": "code",
   "execution_count": 48,
   "metadata": {},
   "outputs": [
    {
     "data": {
      "text/plain": [
       "Lasso(alpha=0.0001)"
      ]
     },
     "execution_count": 48,
     "metadata": {},
     "output_type": "execute_result"
    }
   ],
   "source": [
    "alpha_lasso1 =0.0001\n",
    "finalModel = Lasso(alpha=alpha_lasso1)    \n",
    "finalModel.fit(X_train, y_train) "
   ]
  },
  {
   "cell_type": "code",
   "execution_count": 49,
   "metadata": {},
   "outputs": [],
   "source": [
    "y_pred_train_final = finalModel.predict(X_train)\n",
    "y_pred_test_final = finalModel.predict(X_test)"
   ]
  },
  {
   "cell_type": "code",
   "execution_count": 50,
   "metadata": {},
   "outputs": [
    {
     "name": "stdout",
     "output_type": "stream",
     "text": [
      "Final Model : \n",
      " **********\n",
      "\n",
      "For Train Set:\n",
      "\n",
      "R2 score: 0.8563 \n",
      "MSE score: 0.0033 \n",
      "MAE score: 0.0412 \n",
      "RMSE score: 0.203\n",
      "\n",
      "For Test Set:\n",
      "\n",
      "R2 score: 0.8493 \n",
      "MSE score: 0.0037 \n",
      "MAE score: 0.0429 \n",
      "RMSE score: 0.2071\n"
     ]
    }
   ],
   "source": [
    "print(\"Final Model : \\n\",\"*\"*10)\n",
    "print(\"\\nFor Train Set:\")\n",
    "predictions(y_train,y_pred_train_final)\n",
    "print(\"\\nFor Test Set:\")\n",
    "predictions(y_test,y_pred_test_final)"
   ]
  },
  {
   "cell_type": "code",
   "execution_count": 53,
   "metadata": {},
   "outputs": [
    {
     "data": {
      "text/plain": [
       "['models/hp_model.pkl']"
      ]
     },
     "execution_count": 53,
     "metadata": {},
     "output_type": "execute_result"
    }
   ],
   "source": [
    "# Save the model\n",
    "import joblib \n",
    "\n",
    "# Save the model as a pickle in a file \n",
    "joblib.dump(finalModel, 'models/hp_model.pkl') "
   ]
  },
  {
   "cell_type": "code",
   "execution_count": 54,
   "metadata": {},
   "outputs": [
    {
     "data": {
      "text/html": [
       "<div>\n",
       "<style scoped>\n",
       "    .dataframe tbody tr th:only-of-type {\n",
       "        vertical-align: middle;\n",
       "    }\n",
       "\n",
       "    .dataframe tbody tr th {\n",
       "        vertical-align: top;\n",
       "    }\n",
       "\n",
       "    .dataframe thead th {\n",
       "        text-align: right;\n",
       "    }\n",
       "</style>\n",
       "<table border=\"1\" class=\"dataframe\">\n",
       "  <thead>\n",
       "    <tr style=\"text-align: right;\">\n",
       "      <th></th>\n",
       "      <th>GrLivArea</th>\n",
       "      <th>OverallQual</th>\n",
       "      <th>OverallCond</th>\n",
       "      <th>TotalBsmtSF</th>\n",
       "      <th>Age_Built_Sold</th>\n",
       "    </tr>\n",
       "  </thead>\n",
       "  <tbody>\n",
       "    <tr>\n",
       "      <th>318</th>\n",
       "      <td>0.955999</td>\n",
       "      <td>0.666667</td>\n",
       "      <td>0.500</td>\n",
       "      <td>0.656433</td>\n",
       "      <td>0.130081</td>\n",
       "    </tr>\n",
       "    <tr>\n",
       "      <th>239</th>\n",
       "      <td>0.454186</td>\n",
       "      <td>0.555556</td>\n",
       "      <td>0.375</td>\n",
       "      <td>0.358187</td>\n",
       "      <td>0.528455</td>\n",
       "    </tr>\n",
       "    <tr>\n",
       "      <th>986</th>\n",
       "      <td>0.518266</td>\n",
       "      <td>0.555556</td>\n",
       "      <td>0.875</td>\n",
       "      <td>0.236355</td>\n",
       "      <td>0.780488</td>\n",
       "    </tr>\n",
       "    <tr>\n",
       "      <th>1416</th>\n",
       "      <td>0.801862</td>\n",
       "      <td>0.333333</td>\n",
       "      <td>0.625</td>\n",
       "      <td>0.378655</td>\n",
       "      <td>1.000000</td>\n",
       "    </tr>\n",
       "    <tr>\n",
       "      <th>390</th>\n",
       "      <td>0.402230</td>\n",
       "      <td>0.444444</td>\n",
       "      <td>0.875</td>\n",
       "      <td>0.419591</td>\n",
       "      <td>0.878049</td>\n",
       "    </tr>\n",
       "  </tbody>\n",
       "</table>\n",
       "</div>"
      ],
      "text/plain": [
       "      GrLivArea  OverallQual  OverallCond  TotalBsmtSF  Age_Built_Sold\n",
       "318    0.955999     0.666667        0.500     0.656433        0.130081\n",
       "239    0.454186     0.555556        0.375     0.358187        0.528455\n",
       "986    0.518266     0.555556        0.875     0.236355        0.780488\n",
       "1416   0.801862     0.333333        0.625     0.378655        1.000000\n",
       "390    0.402230     0.444444        0.875     0.419591        0.878049"
      ]
     },
     "execution_count": 54,
     "metadata": {},
     "output_type": "execute_result"
    }
   ],
   "source": [
    "X_train.head()"
   ]
  },
  {
   "cell_type": "code",
   "execution_count": 55,
   "metadata": {},
   "outputs": [
    {
     "data": {
      "text/html": [
       "<div>\n",
       "<style scoped>\n",
       "    .dataframe tbody tr th:only-of-type {\n",
       "        vertical-align: middle;\n",
       "    }\n",
       "\n",
       "    .dataframe tbody tr th {\n",
       "        vertical-align: top;\n",
       "    }\n",
       "\n",
       "    .dataframe thead th {\n",
       "        text-align: right;\n",
       "    }\n",
       "</style>\n",
       "<table border=\"1\" class=\"dataframe\">\n",
       "  <thead>\n",
       "    <tr style=\"text-align: right;\">\n",
       "      <th></th>\n",
       "      <th>GrLivArea</th>\n",
       "      <th>OverallQual</th>\n",
       "      <th>OverallCond</th>\n",
       "      <th>TotalBsmtSF</th>\n",
       "      <th>Age_Built_Sold</th>\n",
       "    </tr>\n",
       "  </thead>\n",
       "  <tbody>\n",
       "    <tr>\n",
       "      <th>1436</th>\n",
       "      <td>0.184446</td>\n",
       "      <td>0.333333</td>\n",
       "      <td>0.625</td>\n",
       "      <td>0.421053</td>\n",
       "      <td>0.292683</td>\n",
       "    </tr>\n",
       "    <tr>\n",
       "      <th>57</th>\n",
       "      <td>0.555068</td>\n",
       "      <td>0.666667</td>\n",
       "      <td>0.500</td>\n",
       "      <td>0.419103</td>\n",
       "      <td>0.016260</td>\n",
       "    </tr>\n",
       "    <tr>\n",
       "      <th>780</th>\n",
       "      <td>0.352871</td>\n",
       "      <td>0.666667</td>\n",
       "      <td>0.500</td>\n",
       "      <td>0.602827</td>\n",
       "      <td>0.097561</td>\n",
       "    </tr>\n",
       "    <tr>\n",
       "      <th>382</th>\n",
       "      <td>0.588407</td>\n",
       "      <td>0.666667</td>\n",
       "      <td>0.500</td>\n",
       "      <td>0.457602</td>\n",
       "      <td>0.008130</td>\n",
       "    </tr>\n",
       "    <tr>\n",
       "      <th>1170</th>\n",
       "      <td>0.294420</td>\n",
       "      <td>0.555556</td>\n",
       "      <td>0.625</td>\n",
       "      <td>0.534113</td>\n",
       "      <td>0.252033</td>\n",
       "    </tr>\n",
       "  </tbody>\n",
       "</table>\n",
       "</div>"
      ],
      "text/plain": [
       "      GrLivArea  OverallQual  OverallCond  TotalBsmtSF  Age_Built_Sold\n",
       "1436   0.184446     0.333333        0.625     0.421053        0.292683\n",
       "57     0.555068     0.666667        0.500     0.419103        0.016260\n",
       "780    0.352871     0.666667        0.500     0.602827        0.097561\n",
       "382    0.588407     0.666667        0.500     0.457602        0.008130\n",
       "1170   0.294420     0.555556        0.625     0.534113        0.252033"
      ]
     },
     "execution_count": 55,
     "metadata": {},
     "output_type": "execute_result"
    }
   ],
   "source": [
    "X_test.head()"
   ]
  },
  {
   "cell_type": "code",
   "execution_count": 56,
   "metadata": {},
   "outputs": [
    {
     "data": {
      "text/plain": [
       "0.4584238913706992"
      ]
     },
     "execution_count": 56,
     "metadata": {},
     "output_type": "execute_result"
    }
   ],
   "source": [
    "y_pred_test_final[0]"
   ]
  },
  {
   "cell_type": "code",
   "execution_count": 57,
   "metadata": {},
   "outputs": [
    {
     "name": "stdout",
     "output_type": "stream",
     "text": [
      "<class 'pandas.core.frame.DataFrame'>\n",
      "Int64Index: 439 entries, 1436 to 210\n",
      "Data columns (total 5 columns):\n",
      " #   Column          Non-Null Count  Dtype  \n",
      "---  ------          --------------  -----  \n",
      " 0   GrLivArea       439 non-null    float64\n",
      " 1   OverallQual     439 non-null    float64\n",
      " 2   OverallCond     439 non-null    float64\n",
      " 3   TotalBsmtSF     439 non-null    float64\n",
      " 4   Age_Built_Sold  439 non-null    float64\n",
      "dtypes: float64(5)\n",
      "memory usage: 20.6 KB\n"
     ]
    }
   ],
   "source": [
    "X_test.info()"
   ]
  },
  {
   "cell_type": "code",
   "execution_count": 58,
   "metadata": {},
   "outputs": [
    {
     "data": {
      "text/html": [
       "<div>\n",
       "<style scoped>\n",
       "    .dataframe tbody tr th:only-of-type {\n",
       "        vertical-align: middle;\n",
       "    }\n",
       "\n",
       "    .dataframe tbody tr th {\n",
       "        vertical-align: top;\n",
       "    }\n",
       "\n",
       "    .dataframe thead th {\n",
       "        text-align: right;\n",
       "    }\n",
       "</style>\n",
       "<table border=\"1\" class=\"dataframe\">\n",
       "  <thead>\n",
       "    <tr style=\"text-align: right;\">\n",
       "      <th></th>\n",
       "      <th>0</th>\n",
       "      <th>1</th>\n",
       "      <th>2</th>\n",
       "      <th>3</th>\n",
       "      <th>4</th>\n",
       "    </tr>\n",
       "  </thead>\n",
       "  <tbody>\n",
       "    <tr>\n",
       "      <th>0</th>\n",
       "      <td>0.184446</td>\n",
       "      <td>0.333333</td>\n",
       "      <td>0.625</td>\n",
       "      <td>0.421053</td>\n",
       "      <td>0.292683</td>\n",
       "    </tr>\n",
       "  </tbody>\n",
       "</table>\n",
       "</div>"
      ],
      "text/plain": [
       "          0         1      2         3         4\n",
       "0  0.184446  0.333333  0.625  0.421053  0.292683"
      ]
     },
     "execution_count": 58,
     "metadata": {},
     "output_type": "execute_result"
    }
   ],
   "source": [
    "int_features = ['0.184446', '0.333333', '0.625', '0.421053', '0.292683']\n",
    "final_features = pd.DataFrame([np.array(int_features)])\n",
    "final_features"
   ]
  },
  {
   "cell_type": "code",
   "execution_count": 59,
   "metadata": {},
   "outputs": [
    {
     "data": {
      "text/plain": [
       "array([0.45842389])"
      ]
     },
     "execution_count": 59,
     "metadata": {},
     "output_type": "execute_result"
    }
   ],
   "source": [
    "finalModel.predict(X_test.head(1))"
   ]
  },
  {
   "cell_type": "code",
   "execution_count": 60,
   "metadata": {},
   "outputs": [
    {
     "name": "stdout",
     "output_type": "stream",
     "text": [
      "1.0.2\n"
     ]
    }
   ],
   "source": [
    "import sklearn\n",
    "print(sklearn.__version__)"
   ]
  },
  {
   "cell_type": "code",
   "execution_count": 61,
   "metadata": {},
   "outputs": [
    {
     "data": {
      "text/plain": [
       "'1.21.5'"
      ]
     },
     "execution_count": 61,
     "metadata": {},
     "output_type": "execute_result"
    }
   ],
   "source": [
    "import numpy\n",
    "numpy.version.version"
   ]
  }
 ],
 "metadata": {
  "kernelspec": {
   "display_name": "Python 3 (ipykernel)",
   "language": "python",
   "name": "python3"
  },
  "language_info": {
   "codemirror_mode": {
    "name": "ipython",
    "version": 3
   },
   "file_extension": ".py",
   "mimetype": "text/x-python",
   "name": "python",
   "nbconvert_exporter": "python",
   "pygments_lexer": "ipython3",
   "version": "3.9.7"
  }
 },
 "nbformat": 4,
 "nbformat_minor": 4
}
